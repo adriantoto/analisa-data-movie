{
 "cells": [
  {
   "cell_type": "markdown",
   "metadata": {},
   "source": [
    "# Import Libraries"
   ]
  },
  {
   "cell_type": "code",
   "execution_count": 71,
   "metadata": {},
   "outputs": [],
   "source": [
    "import numpy as np\n",
    "import matplotlib.pyplot as plt\n",
    "import pandas as pd"
   ]
  },
  {
   "cell_type": "markdown",
   "metadata": {},
   "source": [
    "- _numpy_ membantu dalam hal konteks mathematical processing\n",
    "- _matplotlib_ membantu dalam hal membuat plotting pada chart\n",
    "- _pandas_ membantu dalam hal import dan manage data "
   ]
  },
  {
   "cell_type": "markdown",
   "metadata": {},
   "source": [
    "# Import Dataset"
   ]
  },
  {
   "cell_type": "code",
   "execution_count": 72,
   "metadata": {},
   "outputs": [],
   "source": [
    "dataset = pd.read_excel('data.xlsx')"
   ]
  },
  {
   "cell_type": "code",
   "execution_count": 73,
   "metadata": {},
   "outputs": [
    {
     "data": {
      "text/html": [
       "<div>\n",
       "<style scoped>\n",
       "    .dataframe tbody tr th:only-of-type {\n",
       "        vertical-align: middle;\n",
       "    }\n",
       "\n",
       "    .dataframe tbody tr th {\n",
       "        vertical-align: top;\n",
       "    }\n",
       "\n",
       "    .dataframe thead th {\n",
       "        text-align: right;\n",
       "    }\n",
       "</style>\n",
       "<table border=\"1\" class=\"dataframe\">\n",
       "  <thead>\n",
       "    <tr style=\"text-align: right;\">\n",
       "      <th></th>\n",
       "      <th>Movie</th>\n",
       "      <th>Year</th>\n",
       "      <th>Ratings</th>\n",
       "      <th>Genre</th>\n",
       "      <th>Gross</th>\n",
       "      <th>Budget</th>\n",
       "      <th>Screens</th>\n",
       "      <th>Sequel</th>\n",
       "      <th>Sentiment</th>\n",
       "      <th>Views</th>\n",
       "      <th>Likes</th>\n",
       "      <th>Dislikes</th>\n",
       "      <th>Comments</th>\n",
       "      <th>Aggregate Followers</th>\n",
       "    </tr>\n",
       "  </thead>\n",
       "  <tbody>\n",
       "    <tr>\n",
       "      <th>0</th>\n",
       "      <td>13 Sins</td>\n",
       "      <td>2014</td>\n",
       "      <td>6.3</td>\n",
       "      <td>8</td>\n",
       "      <td>9130</td>\n",
       "      <td>4000000.0</td>\n",
       "      <td>45.0</td>\n",
       "      <td>1</td>\n",
       "      <td>0</td>\n",
       "      <td>3280543</td>\n",
       "      <td>4632</td>\n",
       "      <td>425</td>\n",
       "      <td>636</td>\n",
       "      <td>1120000.0</td>\n",
       "    </tr>\n",
       "    <tr>\n",
       "      <th>1</th>\n",
       "      <td>22 Jump Street</td>\n",
       "      <td>2014</td>\n",
       "      <td>7.1</td>\n",
       "      <td>1</td>\n",
       "      <td>192000000</td>\n",
       "      <td>50000000.0</td>\n",
       "      <td>3306.0</td>\n",
       "      <td>2</td>\n",
       "      <td>2</td>\n",
       "      <td>583289</td>\n",
       "      <td>3465</td>\n",
       "      <td>61</td>\n",
       "      <td>186</td>\n",
       "      <td>12350000.0</td>\n",
       "    </tr>\n",
       "    <tr>\n",
       "      <th>2</th>\n",
       "      <td>3 Days to Kill</td>\n",
       "      <td>2014</td>\n",
       "      <td>6.2</td>\n",
       "      <td>1</td>\n",
       "      <td>30700000</td>\n",
       "      <td>28000000.0</td>\n",
       "      <td>2872.0</td>\n",
       "      <td>1</td>\n",
       "      <td>0</td>\n",
       "      <td>304861</td>\n",
       "      <td>328</td>\n",
       "      <td>34</td>\n",
       "      <td>47</td>\n",
       "      <td>483000.0</td>\n",
       "    </tr>\n",
       "    <tr>\n",
       "      <th>3</th>\n",
       "      <td>300: Rise of an Empire</td>\n",
       "      <td>2014</td>\n",
       "      <td>6.3</td>\n",
       "      <td>1</td>\n",
       "      <td>106000000</td>\n",
       "      <td>110000000.0</td>\n",
       "      <td>3470.0</td>\n",
       "      <td>2</td>\n",
       "      <td>0</td>\n",
       "      <td>452917</td>\n",
       "      <td>2429</td>\n",
       "      <td>132</td>\n",
       "      <td>590</td>\n",
       "      <td>568000.0</td>\n",
       "    </tr>\n",
       "    <tr>\n",
       "      <th>4</th>\n",
       "      <td>A Haunted House 2</td>\n",
       "      <td>2014</td>\n",
       "      <td>4.7</td>\n",
       "      <td>8</td>\n",
       "      <td>17300000</td>\n",
       "      <td>3500000.0</td>\n",
       "      <td>2310.0</td>\n",
       "      <td>2</td>\n",
       "      <td>0</td>\n",
       "      <td>3145573</td>\n",
       "      <td>12163</td>\n",
       "      <td>610</td>\n",
       "      <td>1082</td>\n",
       "      <td>1923800.0</td>\n",
       "    </tr>\n",
       "    <tr>\n",
       "      <th>...</th>\n",
       "      <td>...</td>\n",
       "      <td>...</td>\n",
       "      <td>...</td>\n",
       "      <td>...</td>\n",
       "      <td>...</td>\n",
       "      <td>...</td>\n",
       "      <td>...</td>\n",
       "      <td>...</td>\n",
       "      <td>...</td>\n",
       "      <td>...</td>\n",
       "      <td>...</td>\n",
       "      <td>...</td>\n",
       "      <td>...</td>\n",
       "      <td>...</td>\n",
       "    </tr>\n",
       "    <tr>\n",
       "      <th>229</th>\n",
       "      <td>Road Hard</td>\n",
       "      <td>2015</td>\n",
       "      <td>6.3</td>\n",
       "      <td>3</td>\n",
       "      <td>106000</td>\n",
       "      <td>1500000.0</td>\n",
       "      <td>22.0</td>\n",
       "      <td>1</td>\n",
       "      <td>14</td>\n",
       "      <td>44963</td>\n",
       "      <td>109</td>\n",
       "      <td>27</td>\n",
       "      <td>42</td>\n",
       "      <td>1188000.0</td>\n",
       "    </tr>\n",
       "    <tr>\n",
       "      <th>230</th>\n",
       "      <td>Ant-Man</td>\n",
       "      <td>2015</td>\n",
       "      <td>7.8</td>\n",
       "      <td>1</td>\n",
       "      <td>169000000</td>\n",
       "      <td>130000000.0</td>\n",
       "      <td>3856.0</td>\n",
       "      <td>1</td>\n",
       "      <td>18</td>\n",
       "      <td>9597644</td>\n",
       "      <td>32558</td>\n",
       "      <td>2672</td>\n",
       "      <td>8359</td>\n",
       "      <td>NaN</td>\n",
       "    </tr>\n",
       "    <tr>\n",
       "      <th>231</th>\n",
       "      <td>Run All Night</td>\n",
       "      <td>2015</td>\n",
       "      <td>6.6</td>\n",
       "      <td>8</td>\n",
       "      <td>26400000</td>\n",
       "      <td>50000000.0</td>\n",
       "      <td>3171.0</td>\n",
       "      <td>1</td>\n",
       "      <td>3</td>\n",
       "      <td>5671767</td>\n",
       "      <td>10073</td>\n",
       "      <td>480</td>\n",
       "      <td>1712</td>\n",
       "      <td>NaN</td>\n",
       "    </tr>\n",
       "    <tr>\n",
       "      <th>232</th>\n",
       "      <td>The Second Best Exotic Marigold Hotel</td>\n",
       "      <td>2015</td>\n",
       "      <td>6.6</td>\n",
       "      <td>1</td>\n",
       "      <td>33100000</td>\n",
       "      <td>10000000.0</td>\n",
       "      <td>1573.0</td>\n",
       "      <td>2</td>\n",
       "      <td>26</td>\n",
       "      <td>831044</td>\n",
       "      <td>2427</td>\n",
       "      <td>99</td>\n",
       "      <td>247</td>\n",
       "      <td>NaN</td>\n",
       "    </tr>\n",
       "    <tr>\n",
       "      <th>233</th>\n",
       "      <td>Aloha</td>\n",
       "      <td>2015</td>\n",
       "      <td>5.5</td>\n",
       "      <td>15</td>\n",
       "      <td>21000000</td>\n",
       "      <td>37000000.0</td>\n",
       "      <td>2815.0</td>\n",
       "      <td>1</td>\n",
       "      <td>13</td>\n",
       "      <td>7119456</td>\n",
       "      <td>18803</td>\n",
       "      <td>1128</td>\n",
       "      <td>2290</td>\n",
       "      <td>NaN</td>\n",
       "    </tr>\n",
       "  </tbody>\n",
       "</table>\n",
       "<p>234 rows × 14 columns</p>\n",
       "</div>"
      ],
      "text/plain": [
       "                                     Movie  Year  Ratings  Genre      Gross  \\\n",
       "0                                  13 Sins  2014      6.3      8       9130   \n",
       "1                           22 Jump Street  2014      7.1      1  192000000   \n",
       "2                           3 Days to Kill  2014      6.2      1   30700000   \n",
       "3                   300: Rise of an Empire  2014      6.3      1  106000000   \n",
       "4                        A Haunted House 2  2014      4.7      8   17300000   \n",
       "..                                     ...   ...      ...    ...        ...   \n",
       "229                              Road Hard  2015      6.3      3     106000   \n",
       "230                                Ant-Man  2015      7.8      1  169000000   \n",
       "231                          Run All Night  2015      6.6      8   26400000   \n",
       "232  The Second Best Exotic Marigold Hotel  2015      6.6      1   33100000   \n",
       "233                                  Aloha  2015      5.5     15   21000000   \n",
       "\n",
       "          Budget  Screens  Sequel  Sentiment    Views  Likes  Dislikes  \\\n",
       "0      4000000.0     45.0       1          0  3280543   4632       425   \n",
       "1     50000000.0   3306.0       2          2   583289   3465        61   \n",
       "2     28000000.0   2872.0       1          0   304861    328        34   \n",
       "3    110000000.0   3470.0       2          0   452917   2429       132   \n",
       "4      3500000.0   2310.0       2          0  3145573  12163       610   \n",
       "..           ...      ...     ...        ...      ...    ...       ...   \n",
       "229    1500000.0     22.0       1         14    44963    109        27   \n",
       "230  130000000.0   3856.0       1         18  9597644  32558      2672   \n",
       "231   50000000.0   3171.0       1          3  5671767  10073       480   \n",
       "232   10000000.0   1573.0       2         26   831044   2427        99   \n",
       "233   37000000.0   2815.0       1         13  7119456  18803      1128   \n",
       "\n",
       "     Comments  Aggregate Followers  \n",
       "0         636            1120000.0  \n",
       "1         186           12350000.0  \n",
       "2          47             483000.0  \n",
       "3         590             568000.0  \n",
       "4        1082            1923800.0  \n",
       "..        ...                  ...  \n",
       "229        42            1188000.0  \n",
       "230      8359                  NaN  \n",
       "231      1712                  NaN  \n",
       "232       247                  NaN  \n",
       "233      2290                  NaN  \n",
       "\n",
       "[234 rows x 14 columns]"
      ]
     },
     "execution_count": 73,
     "metadata": {},
     "output_type": "execute_result"
    }
   ],
   "source": [
    "dataset"
   ]
  },
  {
   "cell_type": "markdown",
   "metadata": {},
   "source": [
    "Data berisi list film tahun 2014-2015 beserta propertiesnya (genre, gross, budget, dst)."
   ]
  },
  {
   "cell_type": "code",
   "execution_count": 74,
   "metadata": {},
   "outputs": [
    {
     "data": {
      "text/plain": [
       "(234, 14)"
      ]
     },
     "execution_count": 74,
     "metadata": {},
     "output_type": "execute_result"
    }
   ],
   "source": [
    "# Ukuran data\n",
    "dataset.shape"
   ]
  },
  {
   "cell_type": "code",
   "execution_count": 75,
   "metadata": {},
   "outputs": [
    {
     "data": {
      "text/plain": [
       "2"
      ]
     },
     "execution_count": 75,
     "metadata": {},
     "output_type": "execute_result"
    }
   ],
   "source": [
    "# Dimensi data\n",
    "dataset.ndim"
   ]
  },
  {
   "cell_type": "code",
   "execution_count": 76,
   "metadata": {},
   "outputs": [
    {
     "data": {
      "text/plain": [
       "Movie                   object\n",
       "Year                     int64\n",
       "Ratings                float64\n",
       "Genre                    int64\n",
       "Gross                    int64\n",
       "Budget                 float64\n",
       "Screens                float64\n",
       "Sequel                   int64\n",
       "Sentiment                int64\n",
       "Views                    int64\n",
       "Likes                    int64\n",
       "Dislikes                 int64\n",
       "Comments                 int64\n",
       "Aggregate Followers    float64\n",
       "dtype: object"
      ]
     },
     "execution_count": 76,
     "metadata": {},
     "output_type": "execute_result"
    }
   ],
   "source": [
    "# Tipe data per column\n",
    "dataset.dtypes"
   ]
  },
  {
   "cell_type": "markdown",
   "metadata": {},
   "source": [
    "# Data Preprocessing"
   ]
  },
  {
   "cell_type": "markdown",
   "metadata": {},
   "source": [
    "## Missing values"
   ]
  },
  {
   "cell_type": "code",
   "execution_count": 77,
   "metadata": {},
   "outputs": [
    {
     "data": {
      "text/html": [
       "<div>\n",
       "<style scoped>\n",
       "    .dataframe tbody tr th:only-of-type {\n",
       "        vertical-align: middle;\n",
       "    }\n",
       "\n",
       "    .dataframe tbody tr th {\n",
       "        vertical-align: top;\n",
       "    }\n",
       "\n",
       "    .dataframe thead th {\n",
       "        text-align: right;\n",
       "    }\n",
       "</style>\n",
       "<table border=\"1\" class=\"dataframe\">\n",
       "  <thead>\n",
       "    <tr style=\"text-align: right;\">\n",
       "      <th></th>\n",
       "      <th>Movie</th>\n",
       "      <th>Year</th>\n",
       "      <th>Ratings</th>\n",
       "      <th>Genre</th>\n",
       "      <th>Gross</th>\n",
       "      <th>Budget</th>\n",
       "      <th>Screens</th>\n",
       "      <th>Sequel</th>\n",
       "      <th>Sentiment</th>\n",
       "      <th>Views</th>\n",
       "      <th>Likes</th>\n",
       "      <th>Dislikes</th>\n",
       "      <th>Comments</th>\n",
       "      <th>Aggregate Followers</th>\n",
       "    </tr>\n",
       "  </thead>\n",
       "  <tbody>\n",
       "    <tr>\n",
       "      <th>Missing Values</th>\n",
       "      <td>0</td>\n",
       "      <td>0</td>\n",
       "      <td>0</td>\n",
       "      <td>0</td>\n",
       "      <td>0</td>\n",
       "      <td>1</td>\n",
       "      <td>10</td>\n",
       "      <td>0</td>\n",
       "      <td>0</td>\n",
       "      <td>0</td>\n",
       "      <td>0</td>\n",
       "      <td>0</td>\n",
       "      <td>0</td>\n",
       "      <td>36</td>\n",
       "    </tr>\n",
       "  </tbody>\n",
       "</table>\n",
       "</div>"
      ],
      "text/plain": [
       "                Movie  Year  Ratings  Genre  Gross  Budget  Screens  Sequel  \\\n",
       "Missing Values      0     0        0      0      0       1       10       0   \n",
       "\n",
       "                Sentiment  Views  Likes  Dislikes  Comments  \\\n",
       "Missing Values          0      0      0         0         0   \n",
       "\n",
       "                Aggregate Followers  \n",
       "Missing Values                   36  "
      ]
     },
     "execution_count": 77,
     "metadata": {},
     "output_type": "execute_result"
    }
   ],
   "source": [
    "# Cek apakah ada missing values pada setiap column\n",
    "pd.DataFrame(dataset.isnull().sum(), columns=['Missing Values']).T"
   ]
  },
  {
   "cell_type": "markdown",
   "metadata": {},
   "source": [
    "Terdapat missing values pada Budget, Screens, dan Aggregate Followers"
   ]
  },
  {
   "cell_type": "code",
   "execution_count": 78,
   "metadata": {},
   "outputs": [],
   "source": [
    "# Posisi missing values di Budget\n",
    "#dataset.loc[pd.isnull(dataset[\"Budget\"]), :]"
   ]
  },
  {
   "cell_type": "code",
   "execution_count": 79,
   "metadata": {},
   "outputs": [],
   "source": [
    "# Posisi missing values di Budget\n",
    "#dataset.loc[pd.isnull(dataset[\"Screens\"]), :]"
   ]
  },
  {
   "cell_type": "code",
   "execution_count": 80,
   "metadata": {},
   "outputs": [],
   "source": [
    "# Posisi missing values di Budget\n",
    "#dataset.loc[pd.isnull(dataset[\"Aggregate Followers\"]), :]"
   ]
  },
  {
   "cell_type": "markdown",
   "metadata": {},
   "source": [
    "## Taking care of missing values "
   ]
  },
  {
   "cell_type": "markdown",
   "metadata": {},
   "source": [
    "## Penanganan missing values pada column `Budget` "
   ]
  },
  {
   "cell_type": "markdown",
   "metadata": {},
   "source": [
    "Pada tabel missing value di atas, terdapat satu data yang tidak memiliki nilai di fitur `Budget`. Karena hanya satu data yang tidak punya nilai, menghapusnya dari data tidak akan terlalu berpengaruh bagi analisis dibandingkan mengisinya."
   ]
  },
  {
   "cell_type": "code",
   "execution_count": 81,
   "metadata": {},
   "outputs": [],
   "source": [
    "# drop\n",
    "index_budget_empty = dataset[dataset['Budget'].isnull()].index\n",
    "dataset.drop(index_budget_empty, axis = 0, inplace = True)"
   ]
  },
  {
   "cell_type": "code",
   "execution_count": 82,
   "metadata": {},
   "outputs": [
    {
     "data": {
      "text/html": [
       "<div>\n",
       "<style scoped>\n",
       "    .dataframe tbody tr th:only-of-type {\n",
       "        vertical-align: middle;\n",
       "    }\n",
       "\n",
       "    .dataframe tbody tr th {\n",
       "        vertical-align: top;\n",
       "    }\n",
       "\n",
       "    .dataframe thead th {\n",
       "        text-align: right;\n",
       "    }\n",
       "</style>\n",
       "<table border=\"1\" class=\"dataframe\">\n",
       "  <thead>\n",
       "    <tr style=\"text-align: right;\">\n",
       "      <th></th>\n",
       "      <th>Movie</th>\n",
       "      <th>Year</th>\n",
       "      <th>Ratings</th>\n",
       "      <th>Genre</th>\n",
       "      <th>Gross</th>\n",
       "      <th>Budget</th>\n",
       "      <th>Screens</th>\n",
       "      <th>Sequel</th>\n",
       "      <th>Sentiment</th>\n",
       "      <th>Views</th>\n",
       "      <th>Likes</th>\n",
       "      <th>Dislikes</th>\n",
       "      <th>Comments</th>\n",
       "      <th>Aggregate Followers</th>\n",
       "    </tr>\n",
       "  </thead>\n",
       "  <tbody>\n",
       "    <tr>\n",
       "      <th>Missing Values</th>\n",
       "      <td>0</td>\n",
       "      <td>0</td>\n",
       "      <td>0</td>\n",
       "      <td>0</td>\n",
       "      <td>0</td>\n",
       "      <td>0</td>\n",
       "      <td>10</td>\n",
       "      <td>0</td>\n",
       "      <td>0</td>\n",
       "      <td>0</td>\n",
       "      <td>0</td>\n",
       "      <td>0</td>\n",
       "      <td>0</td>\n",
       "      <td>36</td>\n",
       "    </tr>\n",
       "  </tbody>\n",
       "</table>\n",
       "</div>"
      ],
      "text/plain": [
       "                Movie  Year  Ratings  Genre  Gross  Budget  Screens  Sequel  \\\n",
       "Missing Values      0     0        0      0      0       0       10       0   \n",
       "\n",
       "                Sentiment  Views  Likes  Dislikes  Comments  \\\n",
       "Missing Values          0      0      0         0         0   \n",
       "\n",
       "                Aggregate Followers  \n",
       "Missing Values                   36  "
      ]
     },
     "execution_count": 82,
     "metadata": {},
     "output_type": "execute_result"
    }
   ],
   "source": [
    "# look at miss. value after removal\n",
    "pd.DataFrame(dataset.isnull().sum(), columns=['Missing Values']).T"
   ]
  },
  {
   "cell_type": "markdown",
   "metadata": {},
   "source": [
    "## Penanganan missing values pada column `Screens` "
   ]
  },
  {
   "cell_type": "markdown",
   "metadata": {},
   "source": [
    "Terlihat bahwa terdapat 10 data yang tidak memiliki nilai pada column `Screens`. Karena cukup banyak data yang tidak punya nilai tersebut, kita tidak bisa menghapusnya, sehingga cara yang tepat adalah dengan mengisinya. Kita bisa mengisi dengan nilai rata-rata atau median-nya. Namun, kita perlu melihat apakah ada *outlier* pada fitur `Screens`. Jika ada, maka kita perlu mengisi dengan median, karena nilai median tidak terpengaruh oleh outlier. Jika tidak ada, maka bisa kita isi dengan nilai rata-ratanya saja."
   ]
  },
  {
   "cell_type": "code",
   "execution_count": 83,
   "metadata": {},
   "outputs": [
    {
     "data": {
      "image/png": "[encoded data removed]",
      "text/plain": [
       "<Figure size 432x288 with 1 Axes>"
      ]
     },
     "metadata": {
      "needs_background": "light"
     },
     "output_type": "display_data"
    }
   ],
   "source": [
    "# Salah satu cara untuk melihat outlier adalah dengan melihat boxplot-nya\n",
    "dataset[['Screens']].boxplot()\n",
    "plt.show()"
   ]
  },
  {
   "cell_type": "markdown",
   "metadata": {},
   "source": [
    "Karena pada boxplot tersebut tidak terdapat outlier, maka kita isi data yang tidak memiliki nilai di fitur `Screens` dengan nilai rata-rata."
   ]
  },
  {
   "cell_type": "code",
   "execution_count": 84,
   "metadata": {},
   "outputs": [],
   "source": [
    "# fill with mean\n",
    "dataset['Screens'] = dataset['Screens'].fillna(dataset['Screens'].mean())"
   ]
  },
  {
   "cell_type": "code",
   "execution_count": 85,
   "metadata": {},
   "outputs": [
    {
     "data": {
      "text/html": [
       "<div>\n",
       "<style scoped>\n",
       "    .dataframe tbody tr th:only-of-type {\n",
       "        vertical-align: middle;\n",
       "    }\n",
       "\n",
       "    .dataframe tbody tr th {\n",
       "        vertical-align: top;\n",
       "    }\n",
       "\n",
       "    .dataframe thead th {\n",
       "        text-align: right;\n",
       "    }\n",
       "</style>\n",
       "<table border=\"1\" class=\"dataframe\">\n",
       "  <thead>\n",
       "    <tr style=\"text-align: right;\">\n",
       "      <th></th>\n",
       "      <th>Movie</th>\n",
       "      <th>Year</th>\n",
       "      <th>Ratings</th>\n",
       "      <th>Genre</th>\n",
       "      <th>Gross</th>\n",
       "      <th>Budget</th>\n",
       "      <th>Screens</th>\n",
       "      <th>Sequel</th>\n",
       "      <th>Sentiment</th>\n",
       "      <th>Views</th>\n",
       "      <th>Likes</th>\n",
       "      <th>Dislikes</th>\n",
       "      <th>Comments</th>\n",
       "      <th>Aggregate Followers</th>\n",
       "    </tr>\n",
       "  </thead>\n",
       "  <tbody>\n",
       "    <tr>\n",
       "      <th>Missing Values</th>\n",
       "      <td>0</td>\n",
       "      <td>0</td>\n",
       "      <td>0</td>\n",
       "      <td>0</td>\n",
       "      <td>0</td>\n",
       "      <td>0</td>\n",
       "      <td>0</td>\n",
       "      <td>0</td>\n",
       "      <td>0</td>\n",
       "      <td>0</td>\n",
       "      <td>0</td>\n",
       "      <td>0</td>\n",
       "      <td>0</td>\n",
       "      <td>36</td>\n",
       "    </tr>\n",
       "  </tbody>\n",
       "</table>\n",
       "</div>"
      ],
      "text/plain": [
       "                Movie  Year  Ratings  Genre  Gross  Budget  Screens  Sequel  \\\n",
       "Missing Values      0     0        0      0      0       0        0       0   \n",
       "\n",
       "                Sentiment  Views  Likes  Dislikes  Comments  \\\n",
       "Missing Values          0      0      0         0         0   \n",
       "\n",
       "                Aggregate Followers  \n",
       "Missing Values                   36  "
      ]
     },
     "execution_count": 85,
     "metadata": {},
     "output_type": "execute_result"
    }
   ],
   "source": [
    "# look at miss. value after handling\n",
    "pd.DataFrame(dataset.isnull().sum(), columns=['Missing Values']).T"
   ]
  },
  {
   "cell_type": "markdown",
   "metadata": {},
   "source": [
    "## Penanganan missing values pada column `Aggregate Followers` "
   ]
  },
  {
   "cell_type": "markdown",
   "metadata": {},
   "source": [
    "Teknik yang digunakan untuk menangani fitur ini sama seperti pada penanganan column `Screens`, yaitu diisi (tidak dihapus). Untuk menentukan diisi dengan nilai apa, akan dilihat terlebih dahulu boxplot nya."
   ]
  },
  {
   "cell_type": "markdown",
   "metadata": {},
   "source": [
    "## Salah satu cara untuk melihat outlier adalah dengan melihat boxplot-nya"
   ]
  },
  {
   "cell_type": "code",
   "execution_count": 86,
   "metadata": {},
   "outputs": [
    {
     "data": {
      "image/png": "[encoded data removed]",
      "text/plain": [
       "<Figure size 432x288 with 1 Axes>"
      ]
     },
     "metadata": {
      "needs_background": "light"
     },
     "output_type": "display_data"
    }
   ],
   "source": [
    "dataset[['Aggregate Followers']].boxplot()\n",
    "plt.show()"
   ]
  },
  {
   "cell_type": "markdown",
   "metadata": {},
   "source": [
    "terlihat bahwa banyak outlier, maka sebaiknya missing value pada column `Aggregate Followers` diisi dengan nilai median-nya."
   ]
  },
  {
   "cell_type": "code",
   "execution_count": 87,
   "metadata": {},
   "outputs": [],
   "source": [
    "# fill with median\n",
    "dataset['Aggregate Followers'] = dataset['Aggregate Followers'].fillna(dataset['Aggregate Followers'].median())"
   ]
  },
  {
   "cell_type": "code",
   "execution_count": 88,
   "metadata": {},
   "outputs": [
    {
     "data": {
      "text/html": [
       "<div>\n",
       "<style scoped>\n",
       "    .dataframe tbody tr th:only-of-type {\n",
       "        vertical-align: middle;\n",
       "    }\n",
       "\n",
       "    .dataframe tbody tr th {\n",
       "        vertical-align: top;\n",
       "    }\n",
       "\n",
       "    .dataframe thead th {\n",
       "        text-align: right;\n",
       "    }\n",
       "</style>\n",
       "<table border=\"1\" class=\"dataframe\">\n",
       "  <thead>\n",
       "    <tr style=\"text-align: right;\">\n",
       "      <th></th>\n",
       "      <th>Movie</th>\n",
       "      <th>Year</th>\n",
       "      <th>Ratings</th>\n",
       "      <th>Genre</th>\n",
       "      <th>Gross</th>\n",
       "      <th>Budget</th>\n",
       "      <th>Screens</th>\n",
       "      <th>Sequel</th>\n",
       "      <th>Sentiment</th>\n",
       "      <th>Views</th>\n",
       "      <th>Likes</th>\n",
       "      <th>Dislikes</th>\n",
       "      <th>Comments</th>\n",
       "      <th>Aggregate Followers</th>\n",
       "    </tr>\n",
       "  </thead>\n",
       "  <tbody>\n",
       "    <tr>\n",
       "      <th>Missing Values</th>\n",
       "      <td>0</td>\n",
       "      <td>0</td>\n",
       "      <td>0</td>\n",
       "      <td>0</td>\n",
       "      <td>0</td>\n",
       "      <td>0</td>\n",
       "      <td>0</td>\n",
       "      <td>0</td>\n",
       "      <td>0</td>\n",
       "      <td>0</td>\n",
       "      <td>0</td>\n",
       "      <td>0</td>\n",
       "      <td>0</td>\n",
       "      <td>0</td>\n",
       "    </tr>\n",
       "  </tbody>\n",
       "</table>\n",
       "</div>"
      ],
      "text/plain": [
       "                Movie  Year  Ratings  Genre  Gross  Budget  Screens  Sequel  \\\n",
       "Missing Values      0     0        0      0      0       0        0       0   \n",
       "\n",
       "                Sentiment  Views  Likes  Dislikes  Comments  \\\n",
       "Missing Values          0      0      0         0         0   \n",
       "\n",
       "                Aggregate Followers  \n",
       "Missing Values                    0  "
      ]
     },
     "execution_count": 88,
     "metadata": {},
     "output_type": "execute_result"
    }
   ],
   "source": [
    "# look at miss. value after handling\n",
    "pd.DataFrame(dataset.isnull().sum(), columns=['Missing Values']).T"
   ]
  },
  {
   "cell_type": "code",
   "execution_count": 89,
   "metadata": {},
   "outputs": [
    {
     "data": {
      "text/plain": [
       "(233, 14)"
      ]
     },
     "execution_count": 89,
     "metadata": {},
     "output_type": "execute_result"
    }
   ],
   "source": [
    "dataset.shape"
   ]
  },
  {
   "cell_type": "markdown",
   "metadata": {},
   "source": [
    "## Menangani Outliers "
   ]
  },
  {
   "cell_type": "markdown",
   "metadata": {},
   "source": [
    "Akan dilihat outlier pada fitur-fitur numerik selain fitur target (`Ratings`), yaitu pada `Gross`, `Budget`, `Screens`, `Views`, `Likes`, `Dislikes`, `Comments`, dan `Aggregate Followers`"
   ]
  },
  {
   "cell_type": "code",
   "execution_count": 90,
   "metadata": {},
   "outputs": [],
   "source": [
    "input_feat = ['Gross', 'Budget', 'Screens', 'Views', 'Likes', 'Dislikes', 'Comments', 'Aggregate Followers']"
   ]
  },
  {
   "cell_type": "code",
   "execution_count": 91,
   "metadata": {},
   "outputs": [
    {
     "data": {
      "image/png": "[encoded data removed]",
      "text/plain": [
       "<Figure size 432x288 with 1 Axes>"
      ]
     },
     "metadata": {
      "needs_background": "light"
     },
     "output_type": "display_data"
    },
    {
     "data": {
      "image/png": "[encoded data removed]",
      "text/plain": [
       "<Figure size 432x288 with 1 Axes>"
      ]
     },
     "metadata": {
      "needs_background": "light"
     },
     "output_type": "display_data"
    },
    {
     "data": {
      "image/png": "[encoded data removed]",
      "text/plain": [
       "<Figure size 432x288 with 1 Axes>"
      ]
     },
     "metadata": {
      "needs_background": "light"
     },
     "output_type": "display_data"
    },
    {
     "data": {
      "image/png": "[encoded data removed]",
      "text/plain": [
       "<Figure size 432x288 with 1 Axes>"
      ]
     },
     "metadata": {
      "needs_background": "light"
     },
     "output_type": "display_data"
    },
    {
     "data": {
      "image/png": "[encoded data removed]",
      "text/plain": [
       "<Figure size 432x288 with 1 Axes>"
      ]
     },
     "metadata": {
      "needs_background": "light"
     },
     "output_type": "display_data"
    },
    {
     "data": {
      "image/png": "[encoded data removed]",
      "text/plain": [
       "<Figure size 432x288 with 1 Axes>"
      ]
     },
     "metadata": {
      "needs_background": "light"
     },
     "output_type": "display_data"
    },
    {
     "data": {
      "image/png": "[encoded data removed]",
      "text/plain": [
       "<Figure size 432x288 with 1 Axes>"
      ]
     },
     "metadata": {
      "needs_background": "light"
     },
     "output_type": "display_data"
    },
    {
     "data": {
      "image/png": "[encoded data removed]",
      "text/plain": [
       "<Figure size 432x288 with 1 Axes>"
      ]
     },
     "metadata": {
      "needs_background": "light"
     },
     "output_type": "display_data"
    }
   ],
   "source": [
    "for col in input_feat:\n",
    "    dataset[[col]].boxplot()\n",
    "    plt.show()"
   ]
  },
  {
   "cell_type": "markdown",
   "metadata": {},
   "source": [
    "Dapat dilihat bahwa dari fitur-fitur numerik tersebut, hampir semua (kecuali `Screens`) memiliki outlier. Outlier pada suatu fitur adalah data yang nilai pada fitur tersebut lebih tinggi daripada kuartil ketiga (garis teratas) pada boxplot fitur tersebut. Untuk itu, kita buang data-data outlier tersebut."
   ]
  },
  {
   "cell_type": "code",
   "execution_count": 92,
   "metadata": {},
   "outputs": [],
   "source": [
    "# quartil ke tiga (0-100)\n",
    "def q3(data):\n",
    "    return np.percentile(data, 75, axis = 0).astype('int')\n",
    "\n",
    "def outlier_index(data):\n",
    "    return np.where(np.less_equal(data[input_feat], q3(data[input_feat])).all(axis = 1))[0]"
   ]
  },
  {
   "cell_type": "code",
   "execution_count": 93,
   "metadata": {},
   "outputs": [],
   "source": [
    "# drop outliers\n",
    "dataset.drop(outlier_index(dataset), axis = 0, inplace = True)"
   ]
  },
  {
   "cell_type": "code",
   "execution_count": 94,
   "metadata": {},
   "outputs": [
    {
     "data": {
      "text/plain": [
       "(142, 14)"
      ]
     },
     "execution_count": 94,
     "metadata": {},
     "output_type": "execute_result"
    }
   ],
   "source": [
    "# look the shape after removal\n",
    "dataset.shape"
   ]
  },
  {
   "cell_type": "markdown",
   "metadata": {},
   "source": [
    "menghapus outlier mengurangi baris pada data kita dari 233 menjadi 142"
   ]
  },
  {
   "cell_type": "markdown",
   "metadata": {},
   "source": [
    "## Menghapus data duplikat "
   ]
  },
  {
   "cell_type": "code",
   "execution_count": 95,
   "metadata": {},
   "outputs": [],
   "source": [
    "dataset = dataset.drop_duplicates()"
   ]
  },
  {
   "cell_type": "code",
   "execution_count": 96,
   "metadata": {},
   "outputs": [
    {
     "data": {
      "text/plain": [
       "(142, 14)"
      ]
     },
     "execution_count": 96,
     "metadata": {},
     "output_type": "execute_result"
    }
   ],
   "source": [
    "dataset.shape"
   ]
  },
  {
   "cell_type": "markdown",
   "metadata": {},
   "source": [
    "Ukuran dari data masih sama, tidak ada duplikat"
   ]
  },
  {
   "cell_type": "markdown",
   "metadata": {},
   "source": [
    "## Analisa Data "
   ]
  },
  {
   "cell_type": "markdown",
   "metadata": {},
   "source": [
    "## Melihat perbandingan \"Likes\" dan \"Dislikes\" "
   ]
  },
  {
   "cell_type": "markdown",
   "metadata": {},
   "source": [
    "Seringkali kali kita melihat kualitas suatu film hanya pada satu sudut pandang, dalam hal ini kita akan membandingkan dengan memperhatikan \"likes\" dan \"dislikes\"."
   ]
  },
  {
   "cell_type": "code",
   "execution_count": 97,
   "metadata": {},
   "outputs": [
    {
     "data": {
      "text/plain": [
       "Text(0.5, 1.0, 'Grafik \"Likes\"')"
      ]
     },
     "execution_count": 97,
     "metadata": {},
     "output_type": "execute_result"
    },
    {
     "data": {
      "image/png": "[encoded data removed]",
      "text/plain": [
       "<Figure size 432x288 with 1 Axes>"
      ]
     },
     "metadata": {
      "needs_background": "light"
     },
     "output_type": "display_data"
    }
   ],
   "source": [
    "plt.plot(dataset[['Likes']])\n",
    "plt.title('Grafik \"Likes\"')"
   ]
  },
  {
   "cell_type": "code",
   "execution_count": 98,
   "metadata": {},
   "outputs": [
    {
     "data": {
      "text/plain": [
       "Text(0.5, 1.0, 'Grafik \"Dislikes\"')"
      ]
     },
     "execution_count": 98,
     "metadata": {},
     "output_type": "execute_result"
    },
    {
     "data": {
      "image/png": "[encoded data removed]",
      "text/plain": [
       "<Figure size 432x288 with 1 Axes>"
      ]
     },
     "metadata": {
      "needs_background": "light"
     },
     "output_type": "display_data"
    }
   ],
   "source": [
    "plt.plot(dataset[['Dislikes']])\n",
    "plt.title('Grafik \"Dislikes\"')"
   ]
  },
  {
   "cell_type": "markdown",
   "metadata": {},
   "source": [
    "Bukti bahwa tidak ada \"Liked\" dan \"Dislikes\" yang bernilai 0"
   ]
  },
  {
   "cell_type": "code",
   "execution_count": 99,
   "metadata": {},
   "outputs": [
    {
     "data": {
      "text/html": [
       "<div>\n",
       "<style scoped>\n",
       "    .dataframe tbody tr th:only-of-type {\n",
       "        vertical-align: middle;\n",
       "    }\n",
       "\n",
       "    .dataframe tbody tr th {\n",
       "        vertical-align: top;\n",
       "    }\n",
       "\n",
       "    .dataframe thead th {\n",
       "        text-align: right;\n",
       "    }\n",
       "</style>\n",
       "<table border=\"1\" class=\"dataframe\">\n",
       "  <thead>\n",
       "    <tr style=\"text-align: right;\">\n",
       "      <th></th>\n",
       "      <th>Movie</th>\n",
       "      <th>Year</th>\n",
       "      <th>Ratings</th>\n",
       "      <th>Genre</th>\n",
       "      <th>Gross</th>\n",
       "      <th>Budget</th>\n",
       "      <th>Screens</th>\n",
       "      <th>Sequel</th>\n",
       "      <th>Sentiment</th>\n",
       "      <th>Views</th>\n",
       "      <th>Likes</th>\n",
       "      <th>Dislikes</th>\n",
       "      <th>Comments</th>\n",
       "      <th>Aggregate Followers</th>\n",
       "    </tr>\n",
       "  </thead>\n",
       "  <tbody>\n",
       "  </tbody>\n",
       "</table>\n",
       "</div>"
      ],
      "text/plain": [
       "Empty DataFrame\n",
       "Columns: [Movie, Year, Ratings, Genre, Gross, Budget, Screens, Sequel, Sentiment, Views, Likes, Dislikes, Comments, Aggregate Followers]\n",
       "Index: []"
      ]
     },
     "execution_count": 99,
     "metadata": {},
     "output_type": "execute_result"
    }
   ],
   "source": [
    "dataset[dataset['Likes']==0]"
   ]
  },
  {
   "cell_type": "code",
   "execution_count": 100,
   "metadata": {},
   "outputs": [
    {
     "data": {
      "text/html": [
       "<div>\n",
       "<style scoped>\n",
       "    .dataframe tbody tr th:only-of-type {\n",
       "        vertical-align: middle;\n",
       "    }\n",
       "\n",
       "    .dataframe tbody tr th {\n",
       "        vertical-align: top;\n",
       "    }\n",
       "\n",
       "    .dataframe thead th {\n",
       "        text-align: right;\n",
       "    }\n",
       "</style>\n",
       "<table border=\"1\" class=\"dataframe\">\n",
       "  <thead>\n",
       "    <tr style=\"text-align: right;\">\n",
       "      <th></th>\n",
       "      <th>Movie</th>\n",
       "      <th>Year</th>\n",
       "      <th>Ratings</th>\n",
       "      <th>Genre</th>\n",
       "      <th>Gross</th>\n",
       "      <th>Budget</th>\n",
       "      <th>Screens</th>\n",
       "      <th>Sequel</th>\n",
       "      <th>Sentiment</th>\n",
       "      <th>Views</th>\n",
       "      <th>Likes</th>\n",
       "      <th>Dislikes</th>\n",
       "      <th>Comments</th>\n",
       "      <th>Aggregate Followers</th>\n",
       "    </tr>\n",
       "  </thead>\n",
       "  <tbody>\n",
       "  </tbody>\n",
       "</table>\n",
       "</div>"
      ],
      "text/plain": [
       "Empty DataFrame\n",
       "Columns: [Movie, Year, Ratings, Genre, Gross, Budget, Screens, Sequel, Sentiment, Views, Likes, Dislikes, Comments, Aggregate Followers]\n",
       "Index: []"
      ]
     },
     "execution_count": 100,
     "metadata": {},
     "output_type": "execute_result"
    }
   ],
   "source": [
    "dataset[dataset['Dislikes']==0]"
   ]
  },
  {
   "cell_type": "code",
   "execution_count": 101,
   "metadata": {},
   "outputs": [
    {
     "data": {
      "image/png": "[encoded data removed]",
      "text/plain": [
       "<Figure size 432x288 with 1 Axes>"
      ]
     },
     "metadata": {
      "needs_background": "light"
     },
     "output_type": "display_data"
    }
   ],
   "source": [
    "plt.plot(dataset[['Likes']],'r',dataset[['Dislikes']], 'b');\n",
    "plt.title('Grafik \"Likes\" dan \"Dislikes\" bersamaan')\n",
    "plt.show()"
   ]
  },
  {
   "cell_type": "code",
   "execution_count": 102,
   "metadata": {},
   "outputs": [
    {
     "data": {
      "image/png": "[encoded data removed]",
      "text/plain": [
       "<Figure size 432x288 with 1 Axes>"
      ]
     },
     "metadata": {
      "needs_background": "light"
     },
     "output_type": "display_data"
    },
    {
     "data": {
      "image/png": "[encoded data removed]",
      "text/plain": [
       "<Figure size 432x288 with 1 Axes>"
      ]
     },
     "metadata": {
      "needs_background": "light"
     },
     "output_type": "display_data"
    }
   ],
   "source": [
    "li=dataset['Likes'];\n",
    "disli=dataset['Dislikes'];\n",
    "banding=li/disli;\n",
    "plt.plot(banding);\n",
    "plt.title('Grafik Perbandingan \"Likes\" dan \"Dislikes\"');\n",
    "plt.show();\n",
    "plt.plot(li,'r',banding,'b');\n",
    "plt.title('Grafik \"Likes\" dan Perbandingannya');\n",
    "plt.show();"
   ]
  },
  {
   "cell_type": "markdown",
   "metadata": {},
   "source": [
    "Movie terbaik menurut \"Likes\"."
   ]
  },
  {
   "cell_type": "code",
   "execution_count": 103,
   "metadata": {},
   "outputs": [
    {
     "data": {
      "text/html": [
       "<div>\n",
       "<style scoped>\n",
       "    .dataframe tbody tr th:only-of-type {\n",
       "        vertical-align: middle;\n",
       "    }\n",
       "\n",
       "    .dataframe tbody tr th {\n",
       "        vertical-align: top;\n",
       "    }\n",
       "\n",
       "    .dataframe thead th {\n",
       "        text-align: right;\n",
       "    }\n",
       "</style>\n",
       "<table border=\"1\" class=\"dataframe\">\n",
       "  <thead>\n",
       "    <tr style=\"text-align: right;\">\n",
       "      <th></th>\n",
       "      <th>Movie</th>\n",
       "      <th>Year</th>\n",
       "      <th>Ratings</th>\n",
       "      <th>Genre</th>\n",
       "      <th>Gross</th>\n",
       "      <th>Budget</th>\n",
       "      <th>Screens</th>\n",
       "      <th>Sequel</th>\n",
       "      <th>Sentiment</th>\n",
       "      <th>Views</th>\n",
       "      <th>Likes</th>\n",
       "      <th>Dislikes</th>\n",
       "      <th>Comments</th>\n",
       "      <th>Aggregate Followers</th>\n",
       "    </tr>\n",
       "  </thead>\n",
       "  <tbody>\n",
       "    <tr>\n",
       "      <th>121</th>\n",
       "      <td>The Fault in Our Stars</td>\n",
       "      <td>2014</td>\n",
       "      <td>7.9</td>\n",
       "      <td>3</td>\n",
       "      <td>125000000</td>\n",
       "      <td>12000000.0</td>\n",
       "      <td>3173.000000</td>\n",
       "      <td>1</td>\n",
       "      <td>7</td>\n",
       "      <td>32626778</td>\n",
       "      <td>370552</td>\n",
       "      <td>4752</td>\n",
       "      <td>38363</td>\n",
       "      <td>4240000.0</td>\n",
       "    </tr>\n",
       "    <tr>\n",
       "      <th>86</th>\n",
       "      <td>Not Cool</td>\n",
       "      <td>2014</td>\n",
       "      <td>5.2</td>\n",
       "      <td>8</td>\n",
       "      <td>35700</td>\n",
       "      <td>600000.0</td>\n",
       "      <td>2206.103139</td>\n",
       "      <td>1</td>\n",
       "      <td>0</td>\n",
       "      <td>5403836</td>\n",
       "      <td>187162</td>\n",
       "      <td>3145</td>\n",
       "      <td>24919</td>\n",
       "      <td>2720000.0</td>\n",
       "    </tr>\n",
       "    <tr>\n",
       "      <th>196</th>\n",
       "      <td>The Age of Adaline</td>\n",
       "      <td>2015</td>\n",
       "      <td>7.3</td>\n",
       "      <td>3</td>\n",
       "      <td>42500000</td>\n",
       "      <td>25000000.0</td>\n",
       "      <td>2991.000000</td>\n",
       "      <td>1</td>\n",
       "      <td>11</td>\n",
       "      <td>11036701</td>\n",
       "      <td>50002</td>\n",
       "      <td>1005</td>\n",
       "      <td>3525</td>\n",
       "      <td>776000.0</td>\n",
       "    </tr>\n",
       "    <tr>\n",
       "      <th>173</th>\n",
       "      <td>Fifty Shades of Grey</td>\n",
       "      <td>2015</td>\n",
       "      <td>4.2</td>\n",
       "      <td>3</td>\n",
       "      <td>166000000</td>\n",
       "      <td>40000000.0</td>\n",
       "      <td>3646.000000</td>\n",
       "      <td>1</td>\n",
       "      <td>9</td>\n",
       "      <td>31859569</td>\n",
       "      <td>49900</td>\n",
       "      <td>13960</td>\n",
       "      <td>9119</td>\n",
       "      <td>946000.0</td>\n",
       "    </tr>\n",
       "    <tr>\n",
       "      <th>212</th>\n",
       "      <td>Hitman: Agent 47</td>\n",
       "      <td>2015</td>\n",
       "      <td>5.9</td>\n",
       "      <td>8</td>\n",
       "      <td>16100000</td>\n",
       "      <td>35000000.0</td>\n",
       "      <td>3261.000000</td>\n",
       "      <td>1</td>\n",
       "      <td>10</td>\n",
       "      <td>13154873</td>\n",
       "      <td>46684</td>\n",
       "      <td>3565</td>\n",
       "      <td>8578</td>\n",
       "      <td>209000.0</td>\n",
       "    </tr>\n",
       "  </tbody>\n",
       "</table>\n",
       "</div>"
      ],
      "text/plain": [
       "                      Movie  Year  Ratings  Genre      Gross      Budget  \\\n",
       "121  The Fault in Our Stars  2014      7.9      3  125000000  12000000.0   \n",
       "86                 Not Cool  2014      5.2      8      35700    600000.0   \n",
       "196      The Age of Adaline  2015      7.3      3   42500000  25000000.0   \n",
       "173    Fifty Shades of Grey  2015      4.2      3  166000000  40000000.0   \n",
       "212        Hitman: Agent 47  2015      5.9      8   16100000  35000000.0   \n",
       "\n",
       "         Screens  Sequel  Sentiment     Views   Likes  Dislikes  Comments  \\\n",
       "121  3173.000000       1          7  32626778  370552      4752     38363   \n",
       "86   2206.103139       1          0   5403836  187162      3145     24919   \n",
       "196  2991.000000       1         11  11036701   50002      1005      3525   \n",
       "173  3646.000000       1          9  31859569   49900     13960      9119   \n",
       "212  3261.000000       1         10  13154873   46684      3565      8578   \n",
       "\n",
       "     Aggregate Followers  \n",
       "121            4240000.0  \n",
       "86             2720000.0  \n",
       "196             776000.0  \n",
       "173             946000.0  \n",
       "212             209000.0  "
      ]
     },
     "execution_count": 103,
     "metadata": {},
     "output_type": "execute_result"
    }
   ],
   "source": [
    "dataset.sort_values(by = 'Likes',ascending=False).head()"
   ]
  },
  {
   "cell_type": "markdown",
   "metadata": {},
   "source": [
    "Movie terbaik menurut perbandingan \"Likes\" dan \"Dislikes\"."
   ]
  },
  {
   "cell_type": "code",
   "execution_count": 104,
   "metadata": {},
   "outputs": [],
   "source": [
    "bd=pd.DataFrame({'Comparison':banding});\n",
    "df=dataset.join(bd);\n",
    "df.shape;"
   ]
  },
  {
   "cell_type": "code",
   "execution_count": 105,
   "metadata": {},
   "outputs": [
    {
     "data": {
      "text/html": [
       "<div>\n",
       "<style scoped>\n",
       "    .dataframe tbody tr th:only-of-type {\n",
       "        vertical-align: middle;\n",
       "    }\n",
       "\n",
       "    .dataframe tbody tr th {\n",
       "        vertical-align: top;\n",
       "    }\n",
       "\n",
       "    .dataframe thead th {\n",
       "        text-align: right;\n",
       "    }\n",
       "</style>\n",
       "<table border=\"1\" class=\"dataframe\">\n",
       "  <thead>\n",
       "    <tr style=\"text-align: right;\">\n",
       "      <th></th>\n",
       "      <th>Movie</th>\n",
       "      <th>Year</th>\n",
       "      <th>Ratings</th>\n",
       "      <th>Genre</th>\n",
       "      <th>Gross</th>\n",
       "      <th>Budget</th>\n",
       "      <th>Screens</th>\n",
       "      <th>Sequel</th>\n",
       "      <th>Sentiment</th>\n",
       "      <th>Views</th>\n",
       "      <th>Likes</th>\n",
       "      <th>Dislikes</th>\n",
       "      <th>Comments</th>\n",
       "      <th>Aggregate Followers</th>\n",
       "      <th>Comparison</th>\n",
       "    </tr>\n",
       "  </thead>\n",
       "  <tbody>\n",
       "    <tr>\n",
       "      <th>137</th>\n",
       "      <td>The Maze Runner</td>\n",
       "      <td>2014</td>\n",
       "      <td>6.8</td>\n",
       "      <td>1</td>\n",
       "      <td>102000000</td>\n",
       "      <td>34000000.0</td>\n",
       "      <td>173.000000</td>\n",
       "      <td>1</td>\n",
       "      <td>2</td>\n",
       "      <td>3156436</td>\n",
       "      <td>18124</td>\n",
       "      <td>213</td>\n",
       "      <td>2753</td>\n",
       "      <td>4734000.0</td>\n",
       "      <td>85.089202</td>\n",
       "    </tr>\n",
       "    <tr>\n",
       "      <th>121</th>\n",
       "      <td>The Fault in Our Stars</td>\n",
       "      <td>2014</td>\n",
       "      <td>7.9</td>\n",
       "      <td>3</td>\n",
       "      <td>125000000</td>\n",
       "      <td>12000000.0</td>\n",
       "      <td>3173.000000</td>\n",
       "      <td>1</td>\n",
       "      <td>7</td>\n",
       "      <td>32626778</td>\n",
       "      <td>370552</td>\n",
       "      <td>4752</td>\n",
       "      <td>38363</td>\n",
       "      <td>4240000.0</td>\n",
       "      <td>77.978114</td>\n",
       "    </tr>\n",
       "    <tr>\n",
       "      <th>181</th>\n",
       "      <td>Tomorrowland</td>\n",
       "      <td>2015</td>\n",
       "      <td>6.6</td>\n",
       "      <td>12</td>\n",
       "      <td>93200000</td>\n",
       "      <td>190000000.0</td>\n",
       "      <td>3972.000000</td>\n",
       "      <td>1</td>\n",
       "      <td>1</td>\n",
       "      <td>999867</td>\n",
       "      <td>4212</td>\n",
       "      <td>66</td>\n",
       "      <td>250</td>\n",
       "      <td>1198000.0</td>\n",
       "      <td>63.818182</td>\n",
       "    </tr>\n",
       "    <tr>\n",
       "      <th>86</th>\n",
       "      <td>Not Cool</td>\n",
       "      <td>2014</td>\n",
       "      <td>5.2</td>\n",
       "      <td>8</td>\n",
       "      <td>35700</td>\n",
       "      <td>600000.0</td>\n",
       "      <td>2206.103139</td>\n",
       "      <td>1</td>\n",
       "      <td>0</td>\n",
       "      <td>5403836</td>\n",
       "      <td>187162</td>\n",
       "      <td>3145</td>\n",
       "      <td>24919</td>\n",
       "      <td>2720000.0</td>\n",
       "      <td>59.510970</td>\n",
       "    </tr>\n",
       "    <tr>\n",
       "      <th>1</th>\n",
       "      <td>22 Jump Street</td>\n",
       "      <td>2014</td>\n",
       "      <td>7.1</td>\n",
       "      <td>1</td>\n",
       "      <td>192000000</td>\n",
       "      <td>50000000.0</td>\n",
       "      <td>3306.000000</td>\n",
       "      <td>2</td>\n",
       "      <td>2</td>\n",
       "      <td>583289</td>\n",
       "      <td>3465</td>\n",
       "      <td>61</td>\n",
       "      <td>186</td>\n",
       "      <td>12350000.0</td>\n",
       "      <td>56.803279</td>\n",
       "    </tr>\n",
       "  </tbody>\n",
       "</table>\n",
       "</div>"
      ],
      "text/plain": [
       "                      Movie  Year  Ratings  Genre      Gross       Budget  \\\n",
       "137         The Maze Runner  2014      6.8      1  102000000   34000000.0   \n",
       "121  The Fault in Our Stars  2014      7.9      3  125000000   12000000.0   \n",
       "181            Tomorrowland  2015      6.6     12   93200000  190000000.0   \n",
       "86                 Not Cool  2014      5.2      8      35700     600000.0   \n",
       "1            22 Jump Street  2014      7.1      1  192000000   50000000.0   \n",
       "\n",
       "         Screens  Sequel  Sentiment     Views   Likes  Dislikes  Comments  \\\n",
       "137   173.000000       1          2   3156436   18124       213      2753   \n",
       "121  3173.000000       1          7  32626778  370552      4752     38363   \n",
       "181  3972.000000       1          1    999867    4212        66       250   \n",
       "86   2206.103139       1          0   5403836  187162      3145     24919   \n",
       "1    3306.000000       2          2    583289    3465        61       186   \n",
       "\n",
       "     Aggregate Followers  Comparison  \n",
       "137            4734000.0   85.089202  \n",
       "121            4240000.0   77.978114  \n",
       "181            1198000.0   63.818182  \n",
       "86             2720000.0   59.510970  \n",
       "1             12350000.0   56.803279  "
      ]
     },
     "execution_count": 105,
     "metadata": {},
     "output_type": "execute_result"
    }
   ],
   "source": [
    "df.sort_values(by = 'Comparison',ascending=False).head()"
   ]
  }
 ],
 "metadata": {
  "kernelspec": {
   "display_name": "Python 3",
   "language": "python",
   "name": "python3"
  },
  "language_info": {
   "codemirror_mode": {
    "name": "ipython",
    "version": 3
   },
   "file_extension": ".py",
   "mimetype": "text/x-python",
   "name": "python",
   "nbconvert_exporter": "python",
   "pygments_lexer": "ipython3",
   "version": "3.7.6"
  }
 },
 "nbformat": 4,
 "nbformat_minor": 4
}
